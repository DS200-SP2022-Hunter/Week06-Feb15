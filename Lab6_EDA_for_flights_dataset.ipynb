{
  "nbformat": 4,
  "nbformat_minor": 0,
  "metadata": {
    "colab": {
      "name": "Lab6_EDA_for_flights_dataset.ipynb",
      "provenance": []
    },
    "kernelspec": {
      "name": "python3",
      "display_name": "Python 3"
    }
  },
  "cells": [
    {
      "cell_type": "markdown",
      "metadata": {
        "id": "oTpqom9vQKXF",
        "colab_type": "text"
      },
      "source": [
        "# Lab 6:  EDA using a massive airline dataset\n",
        "\n",
        "For this lab, you'll need to access a 500MB+ dataset at kaggle.com.  First, register at kaggle.com, login and download the dataset at https://www.kaggle.com/usdot/flight-delays.  Then, visit https://drive.google.com/drive/my-drive and find a place to upload this dataset (using the \"New\" button).  I have created a directory called \"Colab Notebooks/data\" and uploaded the files there."
      ]
    },
    {
      "cell_type": "markdown",
      "metadata": {
        "id": "RNPXcT--QfOO",
        "colab_type": "text"
      },
      "source": [
        "The first step, as usual, is to load the necessary python resources:"
      ]
    },
    {
      "cell_type": "code",
      "metadata": {
        "id": "R5kgObjIQJXU",
        "colab_type": "code",
        "colab": {}
      },
      "source": [
        "# Load needed python resources\n",
        "from datascience import *\n",
        "import matplotlib\n",
        "matplotlib.use('Agg', warn=False)\n",
        "%matplotlib inline\n",
        "import matplotlib.pyplot as plots\n",
        "plots.style.use('fivethirtyeight')\n",
        "import numpy as np\n",
        "np.set_printoptions(threshold=50)\n"
      ],
      "execution_count": 0,
      "outputs": []
    },
    {
      "cell_type": "markdown",
      "metadata": {
        "id": "oeyRsOFMQjVG",
        "colab_type": "text"
      },
      "source": [
        "Next we'll read in the massive dataset, which has been stored as a csv file in a directory I created on my google drive space.  "
      ]
    },
    {
      "cell_type": "code",
      "metadata": {
        "id": "ATJPJK6JTMzi",
        "colab_type": "code",
        "colab": {}
      },
      "source": [
        "flights = Table.read_table('drive/My Drive/Colab Notebooks/data/flights.csv')"
      ],
      "execution_count": 0,
      "outputs": []
    },
    {
      "cell_type": "markdown",
      "metadata": {
        "id": "CrK6aMaNTQUR",
        "colab_type": "text"
      },
      "source": [
        "Let's check out the columns available in the flights dataset:"
      ]
    },
    {
      "cell_type": "code",
      "metadata": {
        "id": "5iX8Xi30TNBp",
        "colab_type": "code",
        "colab": {}
      },
      "source": [
        "flights.labels"
      ],
      "execution_count": 0,
      "outputs": []
    },
    {
      "cell_type": "markdown",
      "metadata": {
        "id": "NNiM6kg8TXa2",
        "colab_type": "text"
      },
      "source": [
        "Next, select a systematic sample of rows from the flights Table object using code similar to the Chapter 10 intro.  You'll need to figure out an appropriate value of 'gap' based on the lab instructions."
      ]
    },
    {
      "cell_type": "code",
      "metadata": {
        "id": "Rl9XgT8rTXyQ",
        "colab_type": "code",
        "colab": {}
      },
      "source": [
        "gap = **ENTER AN APPROPRIATE INTEGER VALUE OF gap HERE**\n",
        "start = np.random.choice(np.arange(gap))\n",
        "mySample = flights.take(np.arange(start, flights.num_rows, gap))\n",
        "print(mySample.num_rows)\n",
        "mySample"
      ],
      "execution_count": 0,
      "outputs": []
    },
    {
      "cell_type": "markdown",
      "metadata": {
        "id": "G-sxSL1ITX_e",
        "colab_type": "text"
      },
      "source": [
        "Load the airports dataset containing airport names and lat/lon coordinates:\n"
      ]
    },
    {
      "cell_type": "code",
      "metadata": {
        "id": "2LgSYfXbTYR_",
        "colab_type": "code",
        "colab": {}
      },
      "source": [
        "airports = Table.read_table('drive/My Drive/Colab Notebooks/data/airports.csv')"
      ],
      "execution_count": 0,
      "outputs": []
    },
    {
      "cell_type": "markdown",
      "metadata": {
        "id": "gTdcE9nATYeP",
        "colab_type": "text"
      },
      "source": [
        "String together multiple Table-modifying methods (from the datascience module) to produce a cleaned-up version of the systematic sample called mySample (then print its number of rows and its first 10 rows):\n",
        "\n",
        "\n",
        "\n",
        "1.   Select mySample according to 'gap' and 'start'.\n",
        "2.   Then join every ORIGIN_AIRPORT in 'mysample' with the\n",
        " corresponding columns from 'airports' based on matching IATA_CODE.\n",
        "3.   Then select just the columns we need from the result.\n",
        "4.   Then relabel some of the columns.\n"
      ]
    },
    {
      "cell_type": "code",
      "metadata": {
        "id": "T10NXfo1TYue",
        "colab_type": "code",
        "colab": {}
      },
      "source": [
        "mySample = (flights.take(np.arange(start, flights.num_rows, gap))\n",
        "                   .join('ORIGIN_AIRPORT', airports, 'IATA_CODE')\n",
        "                   .select('MONTH', 'DAY', 'ORIGIN_AIRPORT', \n",
        "                           'DESTINATION_AIRPORT', 'SCHEDULED_DEPARTURE', \n",
        "                           'DEPARTURE_DELAY', 'AIRPORT',\n",
        "                           'LATITUDE', 'LONGITUDE')\n",
        "                   .relabeled('ORIGIN_AIRPORT', 'ORIGIN')\n",
        "                   .relabeled('DESTINATION_AIRPORT', 'DESTINATION')\n",
        "                   .relabeled('DEPARTURE_DELAY', 'DELAY')\n",
        "                   .relabeled('AIRPORT', 'ORIGIN_NAME')\n",
        "            )\n",
        "print(mySample.num_rows)\n",
        "mySample"
      ],
      "execution_count": 0,
      "outputs": []
    },
    {
      "cell_type": "markdown",
      "metadata": {
        "id": "QoALcujETY72",
        "colab_type": "text"
      },
      "source": [
        "Create a new column with the approximate day of year. There are better, more accurate ways to do this, but this method that approximates each month by 30 days will work for this purpose:"
      ]
    },
    {
      "cell_type": "code",
      "metadata": {
        "id": "p5tM0e-3UeFq",
        "colab_type": "code",
        "colab": {}
      },
      "source": [
        "mySample = mySample.with_column(\n",
        "             'APPROX_DAY_OF_YEAR', \n",
        "             30*(mySample.column('MONTH')-1) + mySample.column('DAY'))\n",
        "mySample"
      ],
      "execution_count": 0,
      "outputs": []
    },
    {
      "cell_type": "markdown",
      "metadata": {
        "id": "zrzgL6WJUeua",
        "colab_type": "text"
      },
      "source": [
        "Create a scatterplot using the 'LATITUDE' and 'DELAY' columns.  Please notice that a scatterplot depicts the relationship between two quantitative measurement columns:\n"
      ]
    },
    {
      "cell_type": "code",
      "metadata": {
        "id": "BR1ck_htUfx4",
        "colab_type": "code",
        "colab": {}
      },
      "source": [
        "mySample.scatter('LATITUDE', 'DELAY')"
      ],
      "execution_count": 0,
      "outputs": []
    },
    {
      "cell_type": "markdown",
      "metadata": {
        "id": "ZAblkOH4Uf-w",
        "colab_type": "text"
      },
      "source": [
        "# EXTRA CODE\n",
        "The code below is not strictly necessary for the lab assignment.  It is included to illustrate some potentially interesting directions you could take your own investigation:"
      ]
    },
    {
      "cell_type": "code",
      "metadata": {
        "id": "-VvJn0PFUgUo",
        "colab_type": "code",
        "colab": {}
      },
      "source": [
        "# Create a histogram of LATITUDE\n",
        "mySample.hist('LATITUDE')\n",
        "\n",
        "# Create a new column that splits the airports into high vs. low latitude\n",
        "# based on a cutoff you define:\n",
        "LatCut = **ENTER A VALUE THAT MAKES SENSE HERE**\n",
        "mySample = mySample.with_column(\n",
        "              'HIGH_LAT', mySample.column('LATITUDE') > LatCut)\n",
        "mySample\n",
        "\n",
        "\n",
        "# Figure out how many airports are \"high latitude\" vs. \"low latitude\"\n",
        "mySample.group('HIGH_LAT')\n",
        "\n",
        "\n",
        "# Take the means for the high- and low- latitude airports\n",
        "# We're using the 'nanmean' method in numpy to ignore the \n",
        "# nan (not a number) values\n",
        "mySample.group('HIGH_LAT', np.nanmean)\n",
        "\n",
        "\n",
        "# Use the previous idea to find the mean difference automatically\n",
        "Observed_mean_difference = np.diff(mySample.group('HIGH_LAT', np.nanmean)\n",
        "                                           .column('DELAY nanmean'))[0]\n",
        "Observed_mean_difference\n",
        "\n",
        "\n",
        "# Define a function that will reshuffle the DELAY values and then return\n",
        "# the mean difference statistic for the shuffled table.\n",
        "# This simulates from the null hypothesis distribution of the \n",
        "# mean difference statistic.\n",
        "def simulated_mean_difference_under_null():\n",
        "    a=(mySample.sample(with_replacement=False)\n",
        "               .select('DELAY')\n",
        "               .with_column('HIGH_LAT', mySample.column('HIGH_LAT')))\n",
        "    return (np.diff(a.group('HIGH_LAT', np.nanmean)\n",
        "                     .column('DELAY nanmean'))[0])\n",
        "\n",
        "                     \n",
        "# Simulate 5000 draws from the null hypothesis distribution of the \n",
        "# mean difference (and return the result as a numpy array--not the same \n",
        "# as a datascience Table)\n",
        "H0_means = make_array()\n",
        "for i in np.arange(5000):\n",
        "    H0_means = np.append(H0_means, simulated_mean_difference_under_null())    \n",
        "                     \n",
        "\n",
        "# Create a table with the 5000 H0 (null hypothesis) values and then \n",
        "# create a histogram.\n",
        "# Also add the observed value of the sample statistic as a red dot \n",
        "# along the x-axis.\n",
        "Table().with_column(\n",
        "    'Count in a Random Sample', H0_means\n",
        ").hist(bins = np.arange(-12.5, 12.5, 1))\n",
        "plots.scatter(Observed_mean_difference, 0, color='red', s=30);\n"
      ],
      "execution_count": 0,
      "outputs": []
    },
    {
      "cell_type": "markdown",
      "metadata": {
        "id": "lrodzCU6Ugiw",
        "colab_type": "text"
      },
      "source": [
        ""
      ]
    },
    {
      "cell_type": "code",
      "metadata": {
        "id": "bJ5tM3vNVWKu",
        "colab_type": "code",
        "colab": {}
      },
      "source": [
        ""
      ],
      "execution_count": 0,
      "outputs": []
    }
  ]
}